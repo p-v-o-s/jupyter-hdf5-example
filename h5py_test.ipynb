{
 "cells": [
  {
   "cell_type": "markdown",
   "metadata": {},
   "source": [
    "from here: http://stackoverflow.com/questions/20928136/input-and-output-numpy-arrays-to-h5py"
   ]
  },
  {
   "cell_type": "code",
   "execution_count": 5,
   "metadata": {
    "collapsed": true
   },
   "outputs": [],
   "source": [
    "import numpy as np\n",
    "import h5py\n",
    "\n",
    "a = np.random.random(size=(100,20))\n",
    "h5f = h5py.File('data.h5', 'w')\n",
    "h5f.create_dataset('dataset_1', data=a)\n",
    "h5f.close()\n",
    "    "
   ]
  },
  {
   "cell_type": "code",
   "execution_count": 8,
   "metadata": {
    "collapsed": false
   },
   "outputs": [
    {
     "data": {
      "text/plain": [
       "array([[ 0.62899468,  0.01824118,  0.75278391, ...,  0.93159774,\n",
       "         0.90670865,  0.78207182],\n",
       "       [ 0.37762202,  0.23837302,  0.01586928, ...,  0.63084343,\n",
       "         0.27008657,  0.84571979],\n",
       "       [ 0.32737214,  0.0771654 ,  0.34523905, ...,  0.04014712,\n",
       "         0.47491373,  0.81475047],\n",
       "       ..., \n",
       "       [ 0.81847907,  0.14299587,  0.0411328 , ...,  0.34200908,\n",
       "         0.81588272,  0.10133287],\n",
       "       [ 0.15984579,  0.15064492,  0.03183648, ...,  0.44829454,\n",
       "         0.64278853,  0.81453856],\n",
       "       [ 0.21828575,  0.4711258 ,  0.15775523, ...,  0.49429193,\n",
       "         0.58906667,  0.91247633]])"
      ]
     },
     "execution_count": 8,
     "metadata": {},
     "output_type": "execute_result"
    }
   ],
   "source": [
    "a"
   ]
  },
  {
   "cell_type": "code",
   "execution_count": 6,
   "metadata": {
    "collapsed": false
   },
   "outputs": [
    {
     "data": {
      "text/plain": [
       "True"
      ]
     },
     "execution_count": 6,
     "metadata": {},
     "output_type": "execute_result"
    }
   ],
   "source": [
    "h5f = h5py.File('data.h5','r')\n",
    "b = h5f['dataset_1'][:]\n",
    "h5f.close()\n",
    "np.allclose(a,b)"
   ]
  },
  {
   "cell_type": "code",
   "execution_count": 7,
   "metadata": {
    "collapsed": false
   },
   "outputs": [
    {
     "data": {
      "text/plain": [
       "array([[ 0.62899468,  0.01824118,  0.75278391, ...,  0.93159774,\n",
       "         0.90670865,  0.78207182],\n",
       "       [ 0.37762202,  0.23837302,  0.01586928, ...,  0.63084343,\n",
       "         0.27008657,  0.84571979],\n",
       "       [ 0.32737214,  0.0771654 ,  0.34523905, ...,  0.04014712,\n",
       "         0.47491373,  0.81475047],\n",
       "       ..., \n",
       "       [ 0.81847907,  0.14299587,  0.0411328 , ...,  0.34200908,\n",
       "         0.81588272,  0.10133287],\n",
       "       [ 0.15984579,  0.15064492,  0.03183648, ...,  0.44829454,\n",
       "         0.64278853,  0.81453856],\n",
       "       [ 0.21828575,  0.4711258 ,  0.15775523, ...,  0.49429193,\n",
       "         0.58906667,  0.91247633]])"
      ]
     },
     "execution_count": 7,
     "metadata": {},
     "output_type": "execute_result"
    }
   ],
   "source": [
    "b"
   ]
  },
  {
   "cell_type": "code",
   "execution_count": null,
   "metadata": {
    "collapsed": true
   },
   "outputs": [],
   "source": []
  }
 ],
 "metadata": {
  "kernelspec": {
   "display_name": "Python 3",
   "language": "python",
   "name": "python3"
  },
  "language_info": {
   "codemirror_mode": {
    "name": "ipython",
    "version": 3
   },
   "file_extension": ".py",
   "mimetype": "text/x-python",
   "name": "python",
   "nbconvert_exporter": "python",
   "pygments_lexer": "ipython3",
   "version": "3.5.1"
  },
  "widgets": {
   "state": {},
   "version": "1.1.2"
  }
 },
 "nbformat": 4,
 "nbformat_minor": 0
}
